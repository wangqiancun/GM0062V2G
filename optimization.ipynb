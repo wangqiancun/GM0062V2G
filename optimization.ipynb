{
 "cells": [
  {
   "cell_type": "code",
   "execution_count": 1,
   "metadata": {
    "collapsed": true
   },
   "outputs": [],
   "source": [
    "from __future__ import division\n",
    "from pyomo.opt import SolverFactory\n",
    "from pyomo.environ import *\n",
    "import time\n",
    "import datetime\n",
    "import scipy.stats as stats\n",
    "import pandas as pd\n",
    "import numpy as np\n",
    "import matplotlib.pyplot as plt\n",
    "from scipy.linalg import norm\n",
    "import seaborn as sns\n",
    "from pyomo.opt import SolverStatus, TerminationCondition"
   ]
  },
  {
   "cell_type": "code",
   "execution_count": 2,
   "metadata": {
    "collapsed": true,
    "scrolled": false
   },
   "outputs": [],
   "source": [
    "# Assume everyday the departure time and arrival time follows normal\n",
    "# distribution (8:00, -10:00) departure time (4:00- 6:00)\n",
    "\n",
    "#generate start time and end time for 100 EVs\n",
    "# Truncated normal distribution \n",
    "lower_arr, upper_arr = 24, 48\n",
    "mu_arr, sigma_arr = 36, 4\n",
    "samples_arr = stats.truncnorm.rvs(\n",
    "          (lower_arr-mu_arr)/sigma_arr,(upper_arr-mu_arr)/sigma_arr,loc=mu_arr,scale=sigma_arr,size=100)\n",
    "ArrTime = np.round(samples_arr)\n",
    "\n",
    "# plt.hist(ArrTime, bins=97)  # plt.hist passes it's arguments to np.histogram\n",
    "# plt.title(\"Histogram of Arrival Time\", fontsize=16)\n",
    "# plt.xticks(np.arange(24,45,4),('6:00','7:00','8:00','9:00','10:00','11:00'), fontsize=16)\n",
    "# plt.yticks(fontsize=16)\n",
    "# plt.xlabel('Time', fontsize=18)\n",
    "# plt.ylabel('Frequency', fontsize=16)\n",
    "# plt.show()\n",
    "\n",
    "lower_dep, upper_dep = 56, 80\n",
    "mu_dep, sigma_dep = 68, 4\n",
    "samples_dep = stats.truncnorm.rvs(\n",
    "          (lower_dep-mu_dep)/sigma_dep,(upper_dep-mu_dep)/sigma_dep,loc=mu_dep,scale=sigma_dep,size=100)\n",
    "DepTime = np.round(samples_dep)\n",
    "\n",
    "# plt.hist(DepTime, bins=97)  # plt.hist passes it's arguments to np.histogram\n",
    "# plt.title(\"Histogram of Departure Time\", fontsize=16)\n",
    "# plt.xticks(np.arange(56,81,4),('14:00','15:00','16:00','17:00','18:00','19:00','20:00'), fontsize=16)\n",
    "# plt.yticks(fontsize=16)\n",
    "# plt.xlabel('Time', fontsize=18)\n",
    "# plt.ylabel('Frequency', fontsize=16)\n",
    "# plt.show()\n",
    "\n",
    "# # uniform distribution\n",
    "# ArrTime = [round(i) for i in np.random.normal(31,41,100)]\n",
    "# DepTime = [round(i) for i in np.random.normal(63,73,100)]\n",
    "\n",
    "TimeTable = pd.DataFrame({'Arrival time': ArrTime, 'Departure time': DepTime})\n",
    "\n",
    "# Create the 0-1 table to show the plug-in time\n",
    "PlugTime = [[0 for i in range(96)] for j in range(100)]\n",
    "for x in range(100):\n",
    "    index = 0\n",
    "    while index < 96:\n",
    "        if index > TimeTable['Arrival time'].iloc[x] and index < TimeTable['Departure time'].iloc[x]:\n",
    "            PlugTime[x][index] = 1\n",
    "        else:\n",
    "            PlugTime[x][index] = 0\n",
    "        index += 1\n",
    "\n",
    "PlugTimeTable = pd.DataFrame(PlugTime)"
   ]
  },
  {
   "cell_type": "code",
   "execution_count": 21,
   "metadata": {},
   "outputs": [
    {
     "data": {
      "image/png": "[encoded data removed]",
      "text/plain": [
       "<matplotlib.figure.Figure at 0x1a1b72a290>"
      ]
     },
     "metadata": {},
     "output_type": "display_data"
    }
   ],
   "source": [
    "# calculate energy consumption of each EV\n",
    "lower_con, upper_con = 8, 80\n",
    "mu_con, sigma_con = 28, 10\n",
    "samples_con = stats.truncnorm.rvs(\n",
    "          (lower_con-mu_con)/sigma_con,(upper_con-mu_con)/sigma_con,loc=mu_con,scale=sigma_con,size=100)\n",
    "energy_consump = {k: v for k, v in enumerate(samples_con/3.75)}\n",
    "\n",
    "plt.scatter(range(100),samples_con)\n",
    "plt.title(\"EV owners' desired charging energy\", fontsize=16)\n",
    "plt.xticks(fontsize=16)\n",
    "plt.yticks(fontsize=16)\n",
    "plt.xlabel('Vehicle ID', fontsize=18)\n",
    "plt.ylabel('Estimated Distance (miles)', fontsize=16)\n",
    "plt.show()"
   ]
  },
  {
   "cell_type": "code",
   "execution_count": 4,
   "metadata": {
    "collapsed": true
   },
   "outputs": [],
   "source": [
    "# #calculate uncontroll charging load\n",
    "# energy_consump = np.random.uniform(5/3.75, 40/3.75, 50)\n",
    "\n",
    "charge_activity = [[0 for i in range(96)] for j in range(100)]\n",
    "cum_energy = 0\n",
    "for i in range(100):\n",
    "    for j in range(96):\n",
    "        if PlugTimeTable.iloc[i][j] == 1 and energy_consump[i] - cum_energy >= 6.6/4:\n",
    "            charge_activity[i][j] = 6.6\n",
    "            cum_energy += 6.6/4\n",
    "            \n",
    "        elif PlugTimeTable.iloc[i][j] == 1 and cum_energy < energy_consump[i] and energy_consump[i] - cum_energy <6.6/4:\n",
    "            charge_activity[i][j] = (energy_consump[i] - cum_energy) * 4\n",
    "            cum_energy = 0\n",
    "            break\n",
    "        else:\n",
    "            charge_activity[i][j] = 0\n",
    "    \n",
    "EV_Load = pd.DataFrame(charge_activity).sum(axis = 0)\n",
    "# EV_Load.plot()\n",
    "# plt.xlabel(\"Time\") \n",
    "# plt.ylabel(\"load\")\n",
    "# plt.show()"
   ]
  },
  {
   "cell_type": "code",
   "execution_count": 5,
   "metadata": {
    "collapsed": true
   },
   "outputs": [],
   "source": [
    "# Load the load and price data\n",
    "opt_input = pd.read_excel('data.xlsx', sheetname=0, header=0, index_col=None)\n",
    "Building_load = opt_input['Demand (kW)']\n",
    "\n",
    "Building_load.to_dict()\n",
    "\n",
    "total_load_uncont = EV_Load + Building_load\n",
    "# Building_load.plot()\n",
    "# plt.xlabel(\"Time\") \n",
    "# plt.ylabel(\"load\")\n",
    "# plt.show()"
   ]
  },
  {
   "cell_type": "code",
   "execution_count": 6,
   "metadata": {
    "collapsed": true
   },
   "outputs": [],
   "source": [
    "def Co_optimization(inputfile, TimeTable, energydemand, solver=\"gurobi\"):\n",
    "    # Read all price data\n",
    "\n",
    "    price = inputfile['Energy Price ($/kWh)'].to_dict()\n",
    "    netload = inputfile['Demand (kW)'].to_dict()\n",
    "    \n",
    "\n",
    "\n",
    "    with SolverFactory(solver) as opt:\n",
    "        # Creation of a Concrete Model\n",
    "            model = ConcreteModel()\n",
    "\n",
    "\n",
    "            # ###### Set\n",
    "            model.t = Set(initialize=range(96), doc = 'Time')\n",
    "            model.v = Set(initialize=range(100), doc='Vehicles')\n",
    "\n",
    "            # ###### Parameters\n",
    "\n",
    "            # Price, load, required energy\n",
    "            model.price_energy = Param(model.t, initialize=price, doc='Energy Price')\n",
    "            model.net_load = Param(model.t, initialize = netload, doc = 'net load')\n",
    "            model.energy_demand = Param(model.v, initialize = energydemand, doc = 'required energy')\n",
    "\n",
    "\n",
    "            # ###### Variable\n",
    "            model.energy_charge = Var(model.t, model.v, domain=NonNegativeReals, doc='charge power')\n",
    "            model.D = Var(domain = NonNegativeReals, doc = 'added demand charge cost')\n",
    "\n",
    "\n",
    "            # ###### Rules\n",
    "            def maximum_chargepower_rule(model, t, v):\n",
    "                return model.energy_charge[t,v] <= 6.6\n",
    "            model.chargepower_max_rule1 = Constraint(model.t, model.v, rule=maximum_chargepower_rule, doc='Pcharge max rule')\n",
    "\n",
    "\n",
    "            def final_energy_balance(model, v):\n",
    "                return sum(model.energy_charge[i,v] * TimeTable[i][v] for i in model.t)/4 >= model.energy_demand[v]\n",
    "            model.final_energy_rule = Constraint(model.v, rule=final_energy_balance, doc='E final rule')\n",
    "\n",
    "\n",
    "            def demand_charge_rule(model, t):\n",
    "                return 42.71 * (sum(model.energy_charge[t,v] for v in model.v) + model.net_load[t]) <= model.D\n",
    "            model.demand_charge_rule = Constraint(model.t, rule=demand_charge_rule, doc='cannot exceed demand charge')\n",
    "\n",
    "            def objective_rule(model):\n",
    "                return sum(model.price_energy[t] * (sum(model.energy_charge[t,v]  for v in model.v) +  model.net_load[t])/4 \n",
    "                           for t in model.t) * 30 + model.D\n",
    "            model.objective = Objective(rule=objective_rule, sense=minimize, doc='Define objective function')\n",
    "            \n",
    "\n",
    "            results = opt.solve(model)\n",
    "            result_charge = []\n",
    "\n",
    "\n",
    "            for i in model.energy_charge:\n",
    "                result_charge.append(value(model.energy_charge[i]))\n",
    "            opt_charge = np.reshape(result_charge, (96, 100))\n",
    "            optimalresult = pd.DataFrame(opt_charge)\n",
    "\n",
    "\n",
    "            print value(model.objective)\n",
    "            print value(model.D)\n",
    "#             model.load(results) # Loading solution into results object\n",
    "\n",
    "#             if (results.solver.status == SolverStatus.ok) and (results.solver.termination_condition == TerminationCondition.optimal):\n",
    "#                 print 'Got the optimal solution!'\n",
    "#             elif (results.solver.termination_condition == TerminationCondition.infeasible):\n",
    "#                 print 'No infeasible solution!'\n",
    "#             else:\n",
    "#                 # Something else is wrong\n",
    "#                 print ('Solver Status:', results.solver.status)\n",
    "\n",
    "\n",
    "    return optimalresult"
   ]
  },
  {
   "cell_type": "code",
   "execution_count": 7,
   "metadata": {},
   "outputs": [
    {
     "name": "stdout",
     "output_type": "stream",
     "text": [
      "69045.5477744\n",
      "28673.3979103\n"
     ]
    },
    {
     "data": {
      "image/png": "[encoded data removed]",
      "text/plain": [
       "<matplotlib.figure.Figure at 0x1a17dbe950>"
      ]
     },
     "metadata": {},
     "output_type": "display_data"
    }
   ],
   "source": [
    "# # Optimization to minimize energy cost and demand charge\n",
    "myresult = Co_optimization(opt_input, PlugTimeTable, energy_consump)\n",
    "\n",
    "a = myresult.sum(axis = 1)\n",
    "total_load_new = a + Building_load\n",
    "Building_load.plot(label=\"Building base load\", linewidth=2.0, color='r',linestyle='-')\n",
    "total_load_uncont.plot(label=\"Uncontrolled charging senario\", linewidth=2.0, color='k')\n",
    "total_load_new.plot(label=\"Controlled charging senario\", linewidth=2.0, color='b')\n",
    "#plt.title(\"Histogram of Departure Time\", fontsize=16)\n",
    "plt.xticks(np.arange(0,97,24),('0:00','6:00','12:00','18:00','24:00'), fontsize=16)\n",
    "plt.yticks(fontsize=16)\n",
    "plt.xlabel('Time', fontsize=18)\n",
    "plt.ylabel('Load (kW)', fontsize=16)\n",
    "#plt.legend(fontsize=12)\n",
    "plt.legend(fontsize=12, bbox_to_anchor=(1.05, 1), loc=2, borderaxespad=0.)\n",
    "#plt.savefig('results666.pdf')\n",
    "plt.show()\n"
   ]
  },
  {
   "cell_type": "code",
   "execution_count": 8,
   "metadata": {},
   "outputs": [
    {
     "data": {
      "text/plain": [
       "28376.524000000001"
      ]
     },
     "execution_count": 8,
     "metadata": {},
     "output_type": "execute_result"
    }
   ],
   "source": [
    "max(Building_load) * 42.71"
   ]
  },
  {
   "cell_type": "code",
   "execution_count": 9,
   "metadata": {},
   "outputs": [
    {
     "data": {
      "text/plain": [
       "40372.149864114341"
      ]
     },
     "execution_count": 9,
     "metadata": {},
     "output_type": "execute_result"
    }
   ],
   "source": [
    "sum(total_load_new * opt_input['Energy Price ($/kWh)'])*30/4"
   ]
  },
  {
   "cell_type": "code",
   "execution_count": 10,
   "metadata": {},
   "outputs": [
    {
     "data": {
      "text/plain": [
       "37409.406299999988"
      ]
     },
     "execution_count": 10,
     "metadata": {},
     "output_type": "execute_result"
    }
   ],
   "source": [
    "sum(Building_load * opt_input['Energy Price ($/kWh)'])*30/4"
   ]
  },
  {
   "cell_type": "code",
   "execution_count": 17,
   "metadata": {},
   "outputs": [
    {
     "data": {
      "text/plain": [
       "40166.762563173746"
      ]
     },
     "execution_count": 17,
     "metadata": {},
     "output_type": "execute_result"
    }
   ],
   "source": [
    "sum(total_load_uncont * opt_input['Energy Price ($/kWh)'])*30/4"
   ]
  },
  {
   "cell_type": "code",
   "execution_count": 13,
   "metadata": {},
   "outputs": [
    {
     "data": {
      "text/plain": [
       "846.66125808752327"
      ]
     },
     "execution_count": 13,
     "metadata": {},
     "output_type": "execute_result"
    }
   ],
   "source": [
    "max(total_load_uncont)"
   ]
  },
  {
   "cell_type": "code",
   "execution_count": 14,
   "metadata": {},
   "outputs": [
    {
     "data": {
      "text/plain": [
       "-175.31033534575317"
      ]
     },
     "execution_count": 14,
     "metadata": {},
     "output_type": "execute_result"
    }
   ],
   "source": [
    "max(total_load_new) - max(total_load_uncont)"
   ]
  },
  {
   "cell_type": "code",
   "execution_count": 15,
   "metadata": {},
   "outputs": [
    {
     "data": {
      "text/plain": [
       "227.40592740852713"
      ]
     },
     "execution_count": 15,
     "metadata": {},
     "output_type": "execute_result"
    }
   ],
   "source": [
    "sum(abs(total_load_new - total_load_uncont))/2/4"
   ]
  },
  {
   "cell_type": "code",
   "execution_count": 18,
   "metadata": {},
   "outputs": [
    {
     "data": {
      "text/plain": [
       "65785.9"
      ]
     },
     "execution_count": 18,
     "metadata": {},
     "output_type": "execute_result"
    }
   ],
   "source": [
    "37409.4+28376.5"
   ]
  },
  {
   "cell_type": "code",
   "execution_count": 19,
   "metadata": {},
   "outputs": [
    {
     "data": {
      "text/plain": [
       "77093.4"
      ]
     },
     "execution_count": 19,
     "metadata": {},
     "output_type": "execute_result"
    }
   ],
   "source": [
    "40166.8+36926.6"
   ]
  },
  {
   "cell_type": "code",
   "execution_count": 20,
   "metadata": {},
   "outputs": [
    {
     "data": {
      "text/plain": [
       "69387.9"
      ]
     },
     "execution_count": 20,
     "metadata": {},
     "output_type": "execute_result"
    }
   ],
   "source": [
    "40372.1+29015.8"
   ]
  },
  {
   "cell_type": "code",
   "execution_count": null,
   "metadata": {
    "collapsed": true
   },
   "outputs": [],
   "source": []
  }
 ],
 "metadata": {
  "kernelspec": {
   "display_name": "Python 2",
   "language": "python",
   "name": "python2"
  },
  "language_info": {
   "codemirror_mode": {
    "name": "ipython",
    "version": 2
   },
   "file_extension": ".py",
   "mimetype": "text/x-python",
   "name": "python",
   "nbconvert_exporter": "python",
   "pygments_lexer": "ipython2",
   "version": "2.7.13"
  }
 },
 "nbformat": 4,
 "nbformat_minor": 2
}

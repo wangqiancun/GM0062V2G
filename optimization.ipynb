{
 "cells": [
  {
   "cell_type": "code",
   "execution_count": 1,
   "metadata": {
    "collapsed": true
   },
   "outputs": [],
   "source": [
    "from __future__ import division\n",
    "from pyomo.opt import SolverFactory\n",
    "from pyomo.environ import *\n",
    "import time\n",
    "import scipy.stats as stats\n",
    "import pandas as pd\n",
    "import numpy as np\n",
    "import matplotlib.pyplot as plt\n",
    "from scipy.linalg import norm\n",
    "import seaborn as sns\n",
    "from pyomo.opt import SolverStatus, TerminationCondition"
   ]
  },
  {
   "cell_type": "code",
   "execution_count": 2,
   "metadata": {},
   "outputs": [],
   "source": [
    "# Assume everyday the departure time and arrival time follows normal\n",
    "# distribution (8:00, -10:00) departure time (4:00- 6:00)\n",
    "\n",
    "#generate start time and end time for 100 EVs\n",
    "# Truncated normal distribution \n",
    "lower_arr, upper_arr = 24, 48\n",
    "mu_arr, sigma_arr = 36, 4\n",
    "samples_arr = stats.truncnorm.rvs(\n",
    "          (lower_arr-mu_arr)/sigma_arr,(upper_arr-mu_arr)/sigma_arr,loc=mu_arr,scale=sigma_arr,size=100)\n",
    "ArrTime = np.round(samples_arr)\n",
    "\n",
    "\n",
    "lower_dep, upper_dep = 56, 80\n",
    "mu_dep, sigma_dep = 68, 4\n",
    "samples_dep = stats.truncnorm.rvs(\n",
    "          (lower_dep-mu_dep)/sigma_dep,(upper_dep-mu_dep)/sigma_dep,loc=mu_dep,scale=sigma_dep,size=100)\n",
    "DepTime = np.round(samples_dep)\n",
    "\n",
    "# # uniform distribution\n",
    "# ArrTime = [round(i) for i in np.random.normal(31,41,100)]\n",
    "# DepTime = [round(i) for i in np.random.normal(63,73,100)]\n",
    "\n",
    "TimeTable = pd.DataFrame({'Arrival time': ArrTime, 'Departure time': DepTime})\n",
    "\n",
    "# Create the 0-1 table to show the plug-in time\n",
    "PlugTime = [[0 for i in range(96)] for j in range(100)]\n",
    "for x in range(100):\n",
    "    index = 0\n",
    "    while index < 96:\n",
    "        if index > TimeTable['Arrival time'].iloc[x] and index < TimeTable['Departure time'].iloc[x]:\n",
    "            PlugTime[x][index] = 1\n",
    "        else:\n",
    "            PlugTime[x][index] = 0\n",
    "        index += 1\n",
    "\n",
    "PlugTimeTable = pd.DataFrame(PlugTime)"
   ]
  },
  {
   "cell_type": "code",
   "execution_count": 3,
   "metadata": {},
   "outputs": [],
   "source": [
    "# calculate energy consumption of each EV\n",
    "lower_con, upper_con = 8, 80\n",
    "mu_con, sigma_con = 20, 8\n",
    "samples_con = stats.truncnorm.rvs(\n",
    "          (lower_con-mu_con)/sigma_con,(upper_con-mu_con)/sigma_con,loc=mu_con,scale=sigma_con,size=100)\n",
    "energy_consump = {k: v for k, v in enumerate(samples_con/3.75)}"
   ]
  },
  {
   "cell_type": "code",
   "execution_count": null,
   "metadata": {},
   "outputs": [],
   "source": [
    "# #calculate uncontroll charging load\n",
    "# energy_consump = np.random.uniform(5/3.75, 40/3.75, 50)\n",
    "\n",
    "charge_activity = [[0 for i in range(96)] for j in range(100)]\n",
    "cum_energy = 0\n",
    "for i in range(100):\n",
    "    for j in range(96):\n",
    "        if PlugTimeTable.iloc[i][j] == 1 and energy_consump[i] - cum_energy >= 6.6/4:\n",
    "            charge_activity[i][j] = 6.6\n",
    "            cum_energy += 6.6/4\n",
    "            \n",
    "        elif PlugTimeTable.iloc[i][j] == 1 and cum_energy < energy_consump[i] and energy_consump[i] - cum_energy <6.6/4:\n",
    "            charge_activity[i][j] = (energy_consump[i] - cum_energy) * 4\n",
    "            cum_energy = 0\n",
    "            break\n",
    "        else:\n",
    "            charge_activity[i][j] = 0\n",
    "    \n",
    "EV_Load = pd.DataFrame(charge_activity).sum(axis = 0)\n",
    "EV_Load.plot()\n",
    "plt.xlabel(\"Time\") \n",
    "plt.ylabel(\"load\")\n",
    "plt.show()"
   ]
  },
  {
   "cell_type": "code",
   "execution_count": 5,
   "metadata": {},
   "outputs": [],
   "source": [
    "# Load the load and price data\n",
    "opt_input = pd.read_excel('data.xlsx', sheetname=0, header=0, index_col=None)\n",
    "Building_load = opt_input['Demand (kW)']\n",
    "\n",
    "#Building_load.to_dict()\n",
    "\n",
    "# total_load = EV_Load + Building_load\n",
    "# total_load.plot()\n",
    "# Building_load.plot()\n",
    "# plt.xlabel(\"Time\") \n",
    "# plt.ylabel(\"load\")\n",
    "# plt.show()"
   ]
  },
  {
   "cell_type": "code",
   "execution_count": 6,
   "metadata": {
    "collapsed": true
   },
   "outputs": [],
   "source": [
    "def Co_optimization(inputfile, TimeTable, energydemand, solver=\"gurobi\"):\n",
    "    # Read all price data\n",
    "\n",
    "    price = inputfile['Energy Price ($/kWh)'].to_dict()\n",
    "    netload = inputfile['Demand (kW)'].to_dict()\n",
    "    \n",
    "\n",
    "\n",
    "    with SolverFactory(solver) as opt:\n",
    "        # Creation of a Concrete Model\n",
    "            model = ConcreteModel()\n",
    "\n",
    "\n",
    "            # ###### Set\n",
    "            model.t = Set(initialize=range(96), doc = 'Time')\n",
    "            model.v = Set(initialize=range(100), doc='Vehicles')\n",
    "\n",
    "            # ###### Parameters\n",
    "\n",
    "            # Price, load, required energy\n",
    "            model.price_energy = Param(model.t, initialize=price, doc='Energy Price')\n",
    "            model.net_load = Param(model.t, initialize = netload, doc = 'net load')\n",
    "            model.energy_demand = Param(model.v, initialize = energydemand, doc = 'required energy')\n",
    "\n",
    "\n",
    "            # ###### Variable\n",
    "            model.energy_charge = Var(model.t, model.v, domain=NonNegativeReals, doc='charge power')\n",
    "            model.D = Var(domain = NonNegativeReals, doc = 'added demand charge cost')\n",
    "\n",
    "\n",
    "            # ###### Rules\n",
    "            def maximum_chargepower_rule(model, t, v):\n",
    "                return model.energy_charge[t,v] <= 6.6\n",
    "            model.chargepower_max_rule1 = Constraint(model.t, model.v, rule=maximum_chargepower_rule, doc='Pcharge max rule')\n",
    "\n",
    "\n",
    "            def final_energy_balance(model, v):\n",
    "                return sum(model.energy_charge[i,v] * TimeTable[i][v] for i in model.t)/4 >= model.energy_demand[v]\n",
    "            model.final_energy_rule = Constraint(model.v, rule=final_energy_balance, doc='E final rule')\n",
    "\n",
    "\n",
    "            def demand_charge_rule(model, t):\n",
    "                return 18.74 * (sum(model.energy_charge[t,v] for v in model.v) + model.net_load[t]) <= model.D\n",
    "            model.demand_charge_rule = Constraint(model.t, rule=demand_charge_rule, doc='cannot exceed demand charge')\n",
    "\n",
    "            def objective_rule(model):\n",
    "                return sum(model.price_energy[t] * (sum(model.energy_charge[t,v]  for v in model.v) +  model.net_load[t])/4 \n",
    "                           for t in model.t) * 30 + model.D\n",
    "            model.objective = Objective(rule=objective_rule, sense=minimize, doc='Define objective function')\n",
    "            \n",
    "\n",
    "            results = opt.solve(model)\n",
    "#             result_charge = []\n",
    "\n",
    "\n",
    "#             for i in model.energy_charge:\n",
    "#                 result_charge.append(value(model.energy_charge[i]))\n",
    "#             optimalresult = pd.DataFrame(\n",
    "#                 {'energy charge' : result_charge}\n",
    "#             )\n",
    "\n",
    "\n",
    "#             print value(model.objective)\n",
    "#             print value(model.D)\n",
    "#             model.load(results) # Loading solution into results object\n",
    "\n",
    "#             if (results.solver.status == SolverStatus.ok) and (results.solver.termination_condition == TerminationCondition.optimal):\n",
    "#                 print 'Got the optimal solution!'\n",
    "#             elif (results.solver.termination_condition == TerminationCondition.infeasible):\n",
    "#                 print 'No infeasible solution!'\n",
    "#             else:\n",
    "#                 # Something else is wrong\n",
    "#                 print ('Solver Status:', results.solver.status)\n",
    "\n",
    "\n",
    "    return model, results"
   ]
  },
  {
   "cell_type": "code",
   "execution_count": 7,
   "metadata": {},
   "outputs": [
    {
     "data": {
      "text/plain": [
       "(<pyomo.core.base.PyomoModel.ConcreteModel at 0x1a1866dc80>,\n",
       " {'Problem': [{'Number of objectives': 1, 'Lower bound': 96812.805139, 'Name': '', 'Number of variables': 9602, 'Upper bound': 96812.805139, 'Number of continuous variables': 9602, 'Sense': 'minimize', 'Number of constraints': 9797, 'Number of binary variables': 0, 'Number of integer variables': 0, 'Number of nonzeros': 22361}], 'Solution': [OrderedDict([('number of solutions', 0), ('number of solutions displayed', 0)])], 'Solver': [{'Status': 'ok', 'Wall time': '0.0136029720306', 'Termination condition': 'optimal', 'Termination message': 'Model was solved to optimality (subject to tolerances), and an optimal solution is available.', 'Time': 0.19733691215515137, 'Message': 'Model was solved to optimality (subject to tolerances), and an optimal solution is available.', 'Error rc': 0, 'Return code': '0'}]})"
      ]
     },
     "execution_count": 7,
     "metadata": {},
     "output_type": "execute_result"
    }
   ],
   "source": [
    "# # Optimization to minimize energy cost and demand charge\n",
    "myresult = Co_optimization(opt_input, PlugTimeTable, energy_consump)\n",
    "\n",
    "myresult"
   ]
  }
 ],
 "metadata": {
  "kernelspec": {
   "display_name": "Python 2",
   "language": "python",
   "name": "python2"
  },
  "language_info": {
   "codemirror_mode": {
    "name": "ipython",
    "version": 2
   },
   "file_extension": ".py",
   "mimetype": "text/x-python",
   "name": "python",
   "nbconvert_exporter": "python",
   "pygments_lexer": "ipython2",
   "version": "2.7.13"
  }
 },
 "nbformat": 4,
 "nbformat_minor": 2
}

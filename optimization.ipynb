{
 "cells": [
  {
   "cell_type": "code",
   "execution_count": 9,
   "metadata": {
    "collapsed": true
   },
   "outputs": [],
   "source": [
    "from __future__ import division\n",
    "from pyomo.opt import SolverFactory\n",
    "from pyomo.environ import *\n",
    "import time\n",
    "import pandas as pd\n",
    "import numpy as np\n",
    "import matplotlib.pyplot as plt\n",
    "from scipy.linalg import norm\n",
    "import seaborn as sns\n",
    "from pyomo.opt import SolverStatus, TerminationCondition"
   ]
  },
  {
   "cell_type": "code",
   "execution_count": null,
   "metadata": {
    "collapsed": true
   },
   "outputs": [],
   "source": [
    "def Co_optimization(inputfile, efficiency, solver=\"gurobi\"):\n",
    "    # Read all price data\n",
    "\n",
    "    price = inputfile['price'].to_dict()\n",
    "    netload = inputfile['Demand (kW)'].to_dict()\n",
    "\n",
    "\n",
    "    with SolverFactory(solver) as opt:\n",
    "        # Creation of a Concrete Model\n",
    "            model = ConcreteModel()\n",
    "\n",
    "\n",
    "            # ###### Set\n",
    "            model.t = Set(initialize=range(96))\n",
    "\n",
    "            # ###### Parameters\n",
    "\n",
    "            # Price\n",
    "            model.price_energy = Param(model.t, initialize=price, doc='Energy Price')\n",
    "            model.net_load = Param(model.t, initialize = netload, doc = 'net load')\n",
    "\n",
    "\n",
    "            # ###### Variable\n",
    "            model.energy_charge = Var(model.t, domain=NonNegativeReals, doc='charge power')\n",
    "            model.energy_discharge = Var(model.t, domain=NonNegativeReals, doc='discharge power')\n",
    "            #model.SOE = Var(model.t, domain=NonNegativeReals, initialize= inisoc, doc='charge power')\n",
    "            model.V = Var(domain = NonNegativeReals, doc = 'added demand charge cost')\n",
    "\n",
    "            # define 0-1 variable\n",
    "            model.u = Var(model.t, within=Binary, doc='positive energy sign')\n",
    "            model.v = Var(model.t, within=Binary, doc='negative energy sign')\n",
    "\n",
    "\n",
    "            # ###### Rules\n",
    "            def maximum_chargepower_rule(model, t):\n",
    "                return model.energy_charge[t]<= model.u[t] * 400\n",
    "            model.chargepower_max_rule1 = Constraint(model.t, rule=maximum_chargepower_rule, doc='Pcharge max rule')\n",
    "\n",
    "            def maximum_dischargepower_rule(model, t):\n",
    "                return model.energy_discharge[t]<= model.v[t] * 400\n",
    "            model.dischargepower_max_rule2 = Constraint(model.t, rule=maximum_dischargepower_rule, doc='Pdischarge max rule')\n",
    "\n",
    "\n",
    "            def uv_rule(model,t):\n",
    "                return model.u[t] + model.v[t] <= 1\n",
    "            model.uvtime = Constraint(model.t, rule=uv_rule, doc='not charge and discharge simultanously')\n",
    "\n",
    "\n",
    "            def minimum_energy_rule(model, t):\n",
    "                return sum(model.energy_charge[i]*efficiency - model.energy_discharge[i] for i in range(0, t + 1))/4 >= -400\n",
    "            model.minimum_energy_rule = Constraint(model.t, rule=minimum_energy_rule, doc='E min rule')\n",
    "\n",
    "            def maximum_energy_rule(model, t):\n",
    "                return sum(model.energy_charge[i]*efficiency - model.energy_discharge[i] for i in range(0, t + 1))/4 <= 400\n",
    "            model.maximum_energy_rule = Constraint(model.t, rule=maximum_energy_rule, doc='E max rule')\n",
    "\n",
    "#             def demand_charge_rule(model,t):\n",
    "#                 return (model.net_load[t] + model.energy_charge[t] - model.energy_discharge[t]*efficiency) <= 570\n",
    "#             model.demand_charge_rule = Constraint(model.t, rule=demand_charge_rule, doc='cannot exceed demand charge')\n",
    "\n",
    "            def demand_charge_rule(model, t):\n",
    "                return 20 * (model.energy_charge[t] - model.energy_discharge[t]*efficiency + model.net_load[t]-545) <= model.V\n",
    "            model.demand_charge_rule = Constraint(model.t, rule=demand_charge_rule, doc='cannot exceed demand charge')\n",
    "\n",
    "            def objective_rule(model):\n",
    "                return sum((model.energy_charge[i] - model.energy_discharge[i]*efficiency + model.net_load[i])\n",
    "                           * model.price_energy[i]  for i in model.t)/4 + model.V\n",
    "            model.objective = Objective(rule=objective_rule, sense=minimize, doc='Define objective function')\n",
    "            \n",
    "#             def objective_rule(model):\n",
    "#                 return sum((model.energy_charge[i] - model.energy_discharge[i]*efficiency + model.net_load[i])\n",
    "#                            * model.price_energy[i]  for i in model.t)/4 + 20 * norm([model.energy_charge[i] - model.energy_discharge[i]*efficiency + model.net_load[i]-545\n",
    "#                                    for i in model.t],ord = numpy.inf)\n",
    "#             model.objective = Objective(rule=objective_rule, sense=minimize, doc='Define objective function')\n",
    "\n",
    "            results = opt.solve(model)\n",
    "\n",
    "            result_charge = []\n",
    "            result_discharge = []\n",
    "\n",
    "\n",
    "            for i in model.energy_charge:\n",
    "                result_charge.append(value(model.energy_charge[i]))\n",
    "            for i in model.energy_discharge:\n",
    "                result_discharge.append(value(model.energy_discharge[i]))\n",
    "            optimalresult = pd.DataFrame(\n",
    "                {'energy charge' : result_charge,\n",
    "                 'energy discharge' : result_discharge}\n",
    "            )\n",
    "\n",
    "\n",
    "            print value(model.objective)\n",
    "            print value(model.V)\n",
    "            model.load(results) # Loading solution into results object\n",
    "\n",
    "            if (results.solver.status == SolverStatus.ok) and (results.solver.termination_condition == TerminationCondition.optimal):\n",
    "                print 'Got the optimal solution!'\n",
    "            elif (results.solver.termination_condition == TerminationCondition.infeasible):\n",
    "                print 'No infeasible solution!'\n",
    "            else:\n",
    "                # Something else is wrong\n",
    "                print ('Solver Status:', results.solver.status)\n",
    "\n",
    "\n",
    "    return optimalresult"
   ]
  },
  {
   "cell_type": "code",
   "execution_count": 10,
   "metadata": {
    "collapsed": true
   },
   "outputs": [],
   "source": [
    "# Assume everyday the departure time and arrival time follows uniform\n",
    "# distribution (8:00, -10:00) departure time (4:00- 6:00)\n",
    "\n",
    "#generate start time and end time for 50 EVs\n",
    "ArrTime = [round(i) for i in np.random.uniform(31,41,50)]\n",
    "DepTime = [round(i) for i in np.random.uniform(63,73,50)]\n",
    "TimeTable = pd.DataFrame({'Arrival time': ArrTime, 'Departure time': DepTime})\n",
    "\n",
    "# Create the 0-1 table to show the plug-in time\n",
    "PlugTime = [[0 for i in range(96)] for j in range(50)]\n",
    "for x in range(50):\n",
    "    index = 0\n",
    "    while index < 96:\n",
    "        if index > TimeTable['Arrival time'].iloc[x] and index < TimeTable['Departure time'].iloc[x]:\n",
    "            PlugTime[x][index] = 1\n",
    "        else:\n",
    "            PlugTime[x][index] = 0\n",
    "        index += 1\n",
    "\n",
    "PlugTimeTable = pd.DataFrame(PlugTime)"
   ]
  },
  {
   "cell_type": "code",
   "execution_count": 11,
   "metadata": {},
   "outputs": [
    {
     "data": {
      "image/png": "[encoded data removed]",
      "text/plain": [
       "<matplotlib.figure.Figure at 0x1a159aa6d0>"
      ]
     },
     "metadata": {},
     "output_type": "display_data"
    }
   ],
   "source": [
    "#calculate uncontroll charging load\n",
    "energy_consump = np.random.uniform(5/3.75, 40/3.75, 50)\n",
    "\n",
    "charge_activity = [[0 for i in range(96)] for j in range(50)]\n",
    "cum_energy = 0\n",
    "for i in range(50):\n",
    "    for j in range(96):\n",
    "        if PlugTimeTable.iloc[i][j] == 1 and energy_consump[i] - cum_energy >= 6.6/4:\n",
    "            charge_activity[i][j] = 6.6\n",
    "            cum_energy += 6.6/4\n",
    "            \n",
    "        elif PlugTimeTable.iloc[i][j] == 1 and cum_energy < energy_consump[i] and energy_consump[i] - cum_energy <6.6/4:\n",
    "            charge_activity[i][j] = (energy_consump[i] - cum_energy) * 4\n",
    "            cum_energy = 0\n",
    "            break\n",
    "        else:\n",
    "            charge_activity[i][j] = 0\n",
    "    \n",
    "EV_Load = pd.DataFrame(charge_activity).sum(axis = 0)\n",
    "EV_Load.plot()\n",
    "plt.xlabel(\"Time\") \n",
    "plt.ylabel(\"load\")\n",
    "plt.show()"
   ]
  },
  {
   "cell_type": "code",
   "execution_count": 14,
   "metadata": {},
   "outputs": [
    {
     "data": {
      "image/png": "[encoded data removed]",
      "text/plain": [
       "<matplotlib.figure.Figure at 0x1a159b9510>"
      ]
     },
     "metadata": {},
     "output_type": "display_data"
    }
   ],
   "source": [
    "# Load the load and price data\n",
    "opt_input = pd.read_excel('data.xlsx', sheetname=0, header=0, index_col=None)\n",
    "Building_load = opt_input['Demand (kW)']\n",
    "total_load = EV_Load + Building_load\n",
    "total_load.plot()\n",
    "Building_load.plot()\n",
    "plt.xlabel(\"Time\") \n",
    "plt.ylabel(\"load\")\n",
    "plt.show()\n",
    "\n",
    "\n"
   ]
  },
  {
   "cell_type": "code",
   "execution_count": null,
   "metadata": {
    "collapsed": true
   },
   "outputs": [],
   "source": [
    "# # Optimization\n",
    "myresult = Co_optimization(opt_input, 0.92)\n",
    "\n",
    "SOEchange =numpy.cumsum([myresult['energy charge'][i] * 0.92 / 4 - myresult['energy charge'][i] / 4 for i in range(96)])\n",
    "SOE = [SOEchange[i] + 400 for i in range(96)]\n",
    "\n",
    "#print myresult.model.energy\n",
    "myresult.to_csv('battery_schedule.csv',index_label='15min')"
   ]
  },
  {
   "cell_type": "code",
   "execution_count": null,
   "metadata": {
    "collapsed": true
   },
   "outputs": [],
   "source": [
    "change = [myresult['energy charge'][i]*0.92 - myresult['energy discharge'][i] for i in range(96)]\n",
    "SOEchange = numpy.cumsum(change)/4\n",
    "SOE = [SOEchange[i] + 400 for i in range(96)]\n",
    "output = pd.DataFrame({'col':SOE})\n",
    "output.to_csv('batterySOE.csv')"
   ]
  },
  {
   "cell_type": "code",
   "execution_count": null,
   "metadata": {
    "collapsed": true
   },
   "outputs": [],
   "source": [
    "newtable = [[0 for i in range(50)] for j in range[96]]"
   ]
  },
  {
   "cell_type": "code",
   "execution_count": null,
   "metadata": {
    "collapsed": true
   },
   "outputs": [],
   "source": [
    "[[0 for i in range(3)] for j in range(4)]"
   ]
  },
  {
   "cell_type": "code",
   "execution_count": null,
   "metadata": {
    "collapsed": true
   },
   "outputs": [],
   "source": []
  }
 ],
 "metadata": {
  "kernelspec": {
   "display_name": "Python 2",
   "language": "python",
   "name": "python2"
  },
  "language_info": {
   "codemirror_mode": {
    "name": "ipython",
    "version": 2
   },
   "file_extension": ".py",
   "mimetype": "text/x-python",
   "name": "python",
   "nbconvert_exporter": "python",
   "pygments_lexer": "ipython2",
   "version": "2.7.13"
  }
 },
 "nbformat": 4,
 "nbformat_minor": 2
}
